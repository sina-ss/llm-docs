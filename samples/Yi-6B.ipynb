{
 "cells": [
  {
   "cell_type": "markdown",
   "metadata": {},
   "source": [
    "Check env req"
   ]
  },
  {
   "cell_type": "code",
   "execution_count": 3,
   "metadata": {},
   "outputs": [
    {
     "name": "stdout",
     "output_type": "stream",
     "text": [
      "tensor([[0.8228, 0.3318, 0.2336],\n",
      "        [0.9946, 0.0704, 0.7129],\n",
      "        [0.6895, 0.7471, 0.1091]], dtype=torch.float16)\n",
      "tensor([[0.6836, 0.4121, 0.2539],\n",
      "        [0.7578, 0.1377, 0.6680],\n",
      "        [0.7461, 0.6133, 0.2197]], dtype=torch.bfloat16)\n"
     ]
    }
   ],
   "source": [
    "#Check f16 support\n",
    "import torch\n",
    "\n",
    "# For fp16\n",
    "x = torch.rand(3, 3).half()  # Convert to half precision\n",
    "print(x)\n",
    "\n",
    "# For bf16 (if supported)\n",
    "y = torch.rand(3, 3).bfloat16()\n",
    "print(y)"
   ]
  },
  {
   "cell_type": "code",
   "execution_count": 4,
   "metadata": {},
   "outputs": [
    {
     "name": "stdout",
     "output_type": "stream",
     "text": [
      "Number of GPUs: 1\n",
      "GPU Names ['NVIDIA GeForce RTX 3050 Laptop GPU']\n"
     ]
    }
   ],
   "source": [
    "#Check GPU support\n",
    "num_gpus = torch.cuda.device_count()\n",
    "gpu_names = [torch.cuda.get_device_name(i) for i in range (num_gpus)]\n",
    "\n",
    "print (\"Number of GPUs:\", num_gpus)\n",
    "print(\"GPU Names\", gpu_names)"
   ]
  },
  {
   "cell_type": "code",
   "execution_count": 5,
   "metadata": {},
   "outputs": [
    {
     "name": "stderr",
     "output_type": "stream",
     "text": [
      "c:\\Users\\Arina\\anaconda3\\envs\\textgen3\\Lib\\site-packages\\tqdm\\auto.py:21: TqdmWarning: IProgress not found. Please update jupyter and ipywidgets. See https://ipywidgets.readthedocs.io/en/stable/user_install.html\n",
      "  from .autonotebook import tqdm as notebook_tqdm\n",
      "Loading checkpoint shards: 100%|██████████| 2/2 [00:27<00:00, 13.97s/it]\n"
     ]
    }
   ],
   "source": [
    "from transformers import AutoModelForCausalLM, AutoTokenizer\n",
    "\n",
    "model_path = \"D:\\\\text-generation-webui\\\\models\\\\01-ai_Yi-6B\" # Replace this with the path to your model\n",
    "trust_remote_code = True  # Only set this to True if you trust the source of your model\n",
    "\n",
    "# Load the model\n",
    "model = AutoModelForCausalLM.from_pretrained(model_path, trust_remote_code=trust_remote_code)"
   ]
  },
  {
   "cell_type": "code",
   "execution_count": 7,
   "metadata": {},
   "outputs": [],
   "source": [
    "torch.cuda.empty_cache()"
   ]
  },
  {
   "cell_type": "code",
   "execution_count": null,
   "metadata": {},
   "outputs": [],
   "source": [
    "import torch\n",
    "\n",
    "# Check if CUDA is available and use it; otherwise, use the CPU\n",
    "device = torch.device(\"cuda\" if torch.cuda.is_available() else \"cpu\")\n",
    "model = model.to(device)\n",
    "\n",
    "# Convert the model to fp16 if using CUDA\n",
    "if device.type == 'cuda':\n",
    "    model = model.to(torch.float16)\n",
    "\n",
    "tokenizer = YiTokenizer.from_pretrained(model_path)\n",
    "inputs = tokenizer(\"Hello, I am a language model,\", return_tensors=\"pt\").to(device)\n",
    "outputs = model.generate(**inputs)\n",
    "print(tokenizer.decode(outputs[0]))\n"
   ]
  }
 ],
 "metadata": {
  "kernelspec": {
   "display_name": "textgen3",
   "language": "python",
   "name": "python3"
  },
  "language_info": {
   "codemirror_mode": {
    "name": "ipython",
    "version": 3
   },
   "file_extension": ".py",
   "mimetype": "text/x-python",
   "name": "python",
   "nbconvert_exporter": "python",
   "pygments_lexer": "ipython3",
   "version": "3.11.5"
  }
 },
 "nbformat": 4,
 "nbformat_minor": 2
}
